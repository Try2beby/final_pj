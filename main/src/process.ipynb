{
 "cells": [
  {
   "cell_type": "code",
   "execution_count": 21,
   "metadata": {},
   "outputs": [],
   "source": [
    "import networkx as nx\n",
    "import os\n",
    "from utils.global_rules import rules\n",
    "\n",
    "dataDir = \"../data/\"\n",
    "cacheDir = \"../data/cache/\""
   ]
  },
  {
   "cell_type": "markdown",
   "metadata": {},
   "source": [
    "读入图数据，G: 无向图，G_directed: 有向图\n"
   ]
  },
  {
   "cell_type": "code",
   "execution_count": 22,
   "metadata": {},
   "outputs": [
    {
     "name": "stdout",
     "output_type": "stream",
     "text": [
      "Loading graph...\n",
      "Initial Node shape:  (2371558, 4)\n",
      "Initial Link shape:  (3286986, 3)\n",
      "After drop nan and duplicates:\n",
      "Node shape:  (2371558, 4)\n",
      "Link shape:  (3285490, 3)\n",
      "Undirected graph loaded.\n"
     ]
    }
   ],
   "source": [
    "import importlib\n",
    "\n",
    "process = importlib.import_module(\"process\")\n",
    "importlib.reload(process)\n",
    "\n",
    "G = process.get_graph()"
   ]
  },
  {
   "cell_type": "code",
   "execution_count": 23,
   "metadata": {},
   "outputs": [],
   "source": [
    "# Create a Directed Graph from the undirected one\n",
    "G_directed = nx.DiGraph(G)"
   ]
  },
  {
   "cell_type": "markdown",
   "metadata": {},
   "source": [
    "运行社区检测\n"
   ]
  },
  {
   "cell_type": "code",
   "execution_count": 3,
   "metadata": {},
   "outputs": [],
   "source": [
    "import importlib\n",
    "\n",
    "community_detection = importlib.import_module(\"utils.community_detection\")\n",
    "importlib.reload(community_detection)\n",
    "\n",
    "# community_detection.get_community_for_all_groups(G)\n",
    "community_detection.get_subgraph_for_all_communities(G)"
   ]
  },
  {
   "cell_type": "markdown",
   "metadata": {},
   "source": [
    "根据以上社区检测算法的结果，选取团伙 [?] 进行分析。\n"
   ]
  },
  {
   "cell_type": "code",
   "execution_count": 39,
   "metadata": {},
   "outputs": [
    {
     "name": "stdout",
     "output_type": "stream",
     "text": [
      "analyse group:  1\n",
      "#nodes in subgraph:  33640\n",
      "#edges in subgraph:  33848\n",
      "Filtering nodes...\n",
      "Removing nodes by count...\n",
      "Nodes removed:  9113 Nodes left:  24527\n",
      "Removing nodes by pagerank quantile and betweenness centrality...\n"
     ]
    }
   ],
   "source": [
    "import json\n",
    "import importlib\n",
    "\n",
    "rules = importlib.import_module(\"utils.global_rules\")\n",
    "process = importlib.import_module(\"process\")\n",
    "importlib.reload(rules)\n",
    "importlib.reload(process)\n",
    "\n",
    "rules = rules.rules\n",
    "# group_to_analyze = [\"1\", \"3\", \"4\"]\n",
    "group_to_analyze = [\"1\", \"2\", \"3\", \"4\", \"5\"]\n",
    "cacheDir = \"../data/cache/\"\n",
    "subgraphDir = \"../data/subgraph/\"\n",
    "\n",
    "\n",
    "def export_subgraph_to_json(graph, group_str: str):\n",
    "    # transform the graph to directed graph\n",
    "    # graph = graph.to_directed()\n",
    "    # export the graph to json\n",
    "    json.dump(\n",
    "        nx.readwrite.json_graph.node_link_data(graph),\n",
    "        open(subgraphDir + \"group_\" + group_str + \".json\", \"w\"),\n",
    "    )\n",
    "    return\n",
    "\n",
    "\n",
    "def analyse_group(group_str: str):\n",
    "    print(\"analyse group: \", group_str)\n",
    "    # get the evidence\n",
    "    evidence = rules[\"evidence\"][group_str]\n",
    "\n",
    "    # # read the group\n",
    "    # graph = nx.readwrite.json_graph.node_link_graph(\n",
    "    #     json.load(open(cacheDir + \"group_\" + group_str + \".json\"))\n",
    "    # )\n",
    "    # # print graph info\n",
    "    # print(\"#nodes: \", graph.number_of_nodes())\n",
    "    # print(\"#edges: \", graph.number_of_edges())\n",
    "    # subgraph = process.get_subgrah(graph, evidence)\n",
    "\n",
    "    subgraph = process.get_subgraph(G_directed, evidence)\n",
    "    print(\"#nodes in subgraph: \", subgraph.number_of_nodes())\n",
    "    print(\"#edges in subgraph: \", subgraph.number_of_edges())\n",
    "\n",
    "    subgraph_filtered = process.filter_subgraph(\n",
    "        subgraph, countKeepPercent=0.3, degreeQuantile=0.2\n",
    "    )\n",
    "    process.set_core(subgraph_filtered)\n",
    "    export_subgraph_to_json(subgraph_filtered, group_str)\n",
    "\n",
    "    print()\n",
    "    return\n",
    "\n",
    "\n",
    "for group in group_to_analyze:\n",
    "    analyse_group(group)\n",
    "\n",
    "# analyse_group(\"1\")"
   ]
  }
 ],
 "metadata": {
  "kernelspec": {
   "display_name": "Python 3",
   "language": "python",
   "name": "python3"
  },
  "language_info": {
   "codemirror_mode": {
    "name": "ipython",
    "version": 3
   },
   "file_extension": ".py",
   "mimetype": "text/x-python",
   "name": "python",
   "nbconvert_exporter": "python",
   "pygments_lexer": "ipython3",
   "version": "3.11.5"
  }
 },
 "nbformat": 4,
 "nbformat_minor": 2
}
