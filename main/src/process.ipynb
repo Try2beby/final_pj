{
 "cells": [
  {
   "cell_type": "code",
   "execution_count": 2,
   "metadata": {},
   "outputs": [],
   "source": [
    "import networkx as nx\n",
    "import os\n",
    "from utils.global_rules import rules\n",
    "\n",
    "dataDir = \"../data/\"\n",
    "cacheDir = \"../data/cache/\""
   ]
  },
  {
   "cell_type": "markdown",
   "metadata": {},
   "source": [
    "读入图数据，G: 无向图，G_directed: 有向图\n"
   ]
  },
  {
   "cell_type": "code",
   "execution_count": 3,
   "metadata": {},
   "outputs": [
    {
     "name": "stdout",
     "output_type": "stream",
     "text": [
      "Loading graph...\n",
      "Initial Node shape:  (2371558, 4)\n",
      "Initial Link shape:  (3286986, 3)\n",
      "After drop nan and duplicates:\n",
      "Node shape:  (2371558, 4)\n",
      "Link shape:  (3285490, 3)\n",
      "Undirected graph loaded.\n"
     ]
    }
   ],
   "source": [
    "import importlib\n",
    "\n",
    "process = importlib.import_module(\"process\")\n",
    "importlib.reload(process)\n",
    "\n",
    "G = process.get_graph()"
   ]
  },
  {
   "cell_type": "code",
   "execution_count": 23,
   "metadata": {},
   "outputs": [],
   "source": [
    "# Create a Directed Graph from the undirected one\n",
    "G_directed = nx.DiGraph(G)"
   ]
  },
  {
   "cell_type": "markdown",
   "metadata": {},
   "source": [
    "运行社区检测\n"
   ]
  },
  {
   "cell_type": "code",
   "execution_count": 3,
   "metadata": {},
   "outputs": [],
   "source": [
    "import importlib\n",
    "\n",
    "community_detection = importlib.import_module(\"utils.community_detection\")\n",
    "importlib.reload(community_detection)\n",
    "\n",
    "# community_detection.get_community_for_all_groups(G)\n",
    "community_detection.get_subgraph_for_all_communities(G)"
   ]
  },
  {
   "cell_type": "markdown",
   "metadata": {},
   "source": [
    "根据以上社区检测算法的结果，选取团伙 [?] 进行分析。\n"
   ]
  },
  {
   "cell_type": "code",
   "execution_count": 5,
   "metadata": {},
   "outputs": [
    {
     "name": "stdout",
     "output_type": "stream",
     "text": [
      "analyse group:  1\n",
      "#nodes in subgraph:  30767\n",
      "#edges in subgraph:  82663\n",
      "Filtering nodes...\n",
      "Removing nodes by count...\n",
      "Nodes removed:  9851 Nodes left:  20916\n",
      "Removing nodes with empty industry and low degree...\n",
      "Nodes removed:  2114 Nodes left:  18802\n",
      "Removing nodes by pagerank quantile and degree centrality...\n",
      "Nodes removed:  17611 Nodes left:  1191\n",
      "Keeping the max connected component...\n",
      "Nodes left:  516\n"
     ]
    },
    {
     "ename": "KeyError",
     "evalue": "'links'",
     "output_type": "error",
     "traceback": [
      "\u001b[1;31m---------------------------------------------------------------------------\u001b[0m",
      "\u001b[1;31mKeyError\u001b[0m                                  Traceback (most recent call last)",
      "Cell \u001b[1;32mIn[5], line 78\u001b[0m\n\u001b[0;32m     74\u001b[0m     \u001b[38;5;28;01mreturn\u001b[39;00m\n\u001b[0;32m     77\u001b[0m \u001b[38;5;28;01mfor\u001b[39;00m group \u001b[38;5;129;01min\u001b[39;00m group_to_analyze:\n\u001b[1;32m---> 78\u001b[0m     \u001b[43manalyse_group\u001b[49m\u001b[43m(\u001b[49m\u001b[43mgroup\u001b[49m\u001b[43m)\u001b[49m\n\u001b[0;32m     80\u001b[0m \u001b[38;5;66;03m# analyse_group(\"1\")\u001b[39;00m\n",
      "Cell \u001b[1;32mIn[5], line 71\u001b[0m, in \u001b[0;36manalyse_group\u001b[1;34m(group_str)\u001b[0m\n\u001b[0;32m     67\u001b[0m subgraph_filtered \u001b[38;5;241m=\u001b[39m process\u001b[38;5;241m.\u001b[39mfilter_subgraph(\n\u001b[0;32m     68\u001b[0m     subgraph, countKeepPercent\u001b[38;5;241m=\u001b[39m\u001b[38;5;241m0.6\u001b[39m, pagerankQuantile\u001b[38;5;241m=\u001b[39m\u001b[38;5;241m0.96\u001b[39m\n\u001b[0;32m     69\u001b[0m )\n\u001b[0;32m     70\u001b[0m process\u001b[38;5;241m.\u001b[39mset_core(subgraph_filtered)\n\u001b[1;32m---> 71\u001b[0m \u001b[43mexport_subgraph\u001b[49m\u001b[43m(\u001b[49m\u001b[43msubgraph_filtered\u001b[49m\u001b[43m,\u001b[49m\u001b[43m \u001b[49m\u001b[43mgroup_str\u001b[49m\u001b[43m)\u001b[49m\n\u001b[0;32m     73\u001b[0m \u001b[38;5;28mprint\u001b[39m()\n\u001b[0;32m     74\u001b[0m \u001b[38;5;28;01mreturn\u001b[39;00m\n",
      "Cell \u001b[1;32mIn[5], line 43\u001b[0m, in \u001b[0;36mexport_subgraph\u001b[1;34m(graph, group_str)\u001b[0m\n\u001b[0;32m     41\u001b[0m node_data \u001b[38;5;241m=\u001b[39m pd\u001b[38;5;241m.\u001b[39mDataFrame(data[\u001b[38;5;124m\"\u001b[39m\u001b[38;5;124mnodes\u001b[39m\u001b[38;5;124m\"\u001b[39m])\n\u001b[0;32m     42\u001b[0m node_data\u001b[38;5;241m.\u001b[39mto_csv(subgraphDir \u001b[38;5;241m+\u001b[39m group_str \u001b[38;5;241m+\u001b[39m \u001b[38;5;124m\"\u001b[39m\u001b[38;5;124m/nodes.csv\u001b[39m\u001b[38;5;124m\"\u001b[39m, index\u001b[38;5;241m=\u001b[39m\u001b[38;5;28;01mFalse\u001b[39;00m)\n\u001b[1;32m---> 43\u001b[0m link_data \u001b[38;5;241m=\u001b[39m pd\u001b[38;5;241m.\u001b[39mDataFrame(\u001b[43mdata\u001b[49m\u001b[43m[\u001b[49m\u001b[38;5;124;43m\"\u001b[39;49m\u001b[38;5;124;43mlinks\u001b[39;49m\u001b[38;5;124;43m\"\u001b[39;49m\u001b[43m]\u001b[49m)\n\u001b[0;32m     44\u001b[0m link_data\u001b[38;5;241m.\u001b[39mto_csv(subgraphDir \u001b[38;5;241m+\u001b[39m group_str \u001b[38;5;241m+\u001b[39m \u001b[38;5;124m\"\u001b[39m\u001b[38;5;124m/links.csv\u001b[39m\u001b[38;5;124m\"\u001b[39m, index\u001b[38;5;241m=\u001b[39m\u001b[38;5;28;01mFalse\u001b[39;00m)\n\u001b[0;32m     46\u001b[0m \u001b[38;5;28;01mreturn\u001b[39;00m\n",
      "\u001b[1;31mKeyError\u001b[0m: 'links'"
     ]
    }
   ],
   "source": [
    "import json\n",
    "import importlib\n",
    "import pandas as pd\n",
    "\n",
    "rules = importlib.import_module(\"utils.global_rules\")\n",
    "process = importlib.import_module(\"process\")\n",
    "importlib.reload(rules)\n",
    "importlib.reload(process)\n",
    "\n",
    "rules = rules.rules\n",
    "# group_to_analyze = [\"1\", \"3\", \"4\"]\n",
    "group_to_analyze = [\"1\", \"2\", \"3\", \"4\", \"5\"]\n",
    "cacheDir = \"../data/cache/\"\n",
    "subgraphDir = \"../data/subgraph/\"\n",
    "tempDir = \"../data/temp/\"\n",
    "\n",
    "\n",
    "def export_subgraph(graph, group_str: str):\n",
    "    # transform the graph to directed graph\n",
    "    # graph = graph.to_directed()\n",
    "    # export the graph to json\n",
    "    data = nx.readwrite.json_graph.node_link_data(graph)\n",
    "    # Keep only the nodes and edges\n",
    "    data = {\"nodes\": data[\"nodes\"], \"edges\": data[\"links\"]}\n",
    "    json.dump(\n",
    "        data,\n",
    "        open(tempDir + \"group_\" + group_str + \".json\", \"w\"),\n",
    "        indent=4,\n",
    "    )\n",
    "\n",
    "    json.dump(\n",
    "        nx.readwrite.json_graph.node_link_data(graph),\n",
    "        open(subgraphDir + \"group_\" + group_str + \".json\", \"w\"),\n",
    "        indent=4,\n",
    "    )\n",
    "\n",
    "    # Create a directory in subgraphDir\n",
    "    if not os.path.exists(subgraphDir + group_str):\n",
    "        os.makedirs(subgraphDir + group_str)\n",
    "\n",
    "    node_data = pd.DataFrame(data[\"nodes\"])\n",
    "    node_data.to_csv(subgraphDir + group_str + \"/nodes.csv\", index=False)\n",
    "    link_data = pd.DataFrame(data[\"edges\"])\n",
    "    link_data.to_csv(subgraphDir + group_str + \"/links.csv\", index=False)\n",
    "\n",
    "    return\n",
    "\n",
    "\n",
    "def analyse_group(group_str: str):\n",
    "    print(\"analyse group: \", group_str)\n",
    "    # get the evidence\n",
    "    evidence = rules[\"evidence\"][group_str]\n",
    "\n",
    "    # # read the group\n",
    "    # graph = nx.readwrite.json_graph.node_link_graph(\n",
    "    #     json.load(open(cacheDir + \"group_\" + group_str + \".json\"))\n",
    "    # )\n",
    "    # # print graph info\n",
    "    # print(\"#nodes: \", graph.number_of_nodes())\n",
    "    # print(\"#edges: \", graph.number_of_edges())\n",
    "    # subgraph = process.get_subgrah(graph, evidence)\n",
    "\n",
    "    subgraph = process.get_subgraph(G, evidence)\n",
    "    print(\"#nodes in subgraph: \", subgraph.number_of_nodes())\n",
    "    print(\"#edges in subgraph: \", subgraph.number_of_edges())\n",
    "\n",
    "    subgraph_filtered = process.filter_subgraph(\n",
    "        subgraph, countKeepPercent=0.6, pagerankQuantile=0.96\n",
    "    )\n",
    "    process.set_core(subgraph_filtered)\n",
    "    export_subgraph(subgraph_filtered, group_str)\n",
    "\n",
    "    print()\n",
    "    return\n",
    "\n",
    "\n",
    "for group in group_to_analyze:\n",
    "    analyse_group(group)\n",
    "\n",
    "# analyse_group(\"1\")"
   ]
  }
 ],
 "metadata": {
  "kernelspec": {
   "display_name": "Python 3",
   "language": "python",
   "name": "python3"
  },
  "language_info": {
   "codemirror_mode": {
    "name": "ipython",
    "version": 3
   },
   "file_extension": ".py",
   "mimetype": "text/x-python",
   "name": "python",
   "nbconvert_exporter": "python",
   "pygments_lexer": "ipython3",
   "version": "3.11.5"
  }
 },
 "nbformat": 4,
 "nbformat_minor": 2
}
