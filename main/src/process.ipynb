{
 "cells": [
  {
   "cell_type": "code",
   "execution_count": 1,
   "metadata": {},
   "outputs": [],
   "source": [
    "import networkx as nx\n",
    "import os\n",
    "from utils.global_rules import rules\n",
    "\n",
    "dataDir = \"../data/\"\n",
    "cacheDir = \"../data/cache/\""
   ]
  },
  {
   "cell_type": "markdown",
   "metadata": {},
   "source": [
    "读入图数据，G: 无向图，G_directed: 有向图\n"
   ]
  },
  {
   "cell_type": "code",
   "execution_count": 11,
   "metadata": {},
   "outputs": [
    {
     "name": "stdout",
     "output_type": "stream",
     "text": [
      "{'node_priority': {'Domain': 3, 'IP': 4, 'Cert': 4, 'Whois_Name': 2, 'Whois_Phone': 2, 'Whois_Email': 2, 'IP_C': 1, 'ASN': 1}, 'link_priority': {'r_cert': 4, 'r_subdomain': 4, 'r_request_jump': 4, 'r_dns_a': 4, 'r_whois_name': 3, 'r_whois_email': 3, 'r_whois_phone': 3, 'r_cert_chain': 2, 'r_cname': 2, 'r_asn': 1, 'r_cidr': 1}, 'jump_limit': {1: 0, 2: 1, 3: 2, 4: 3}, 'net_limit': {'small': {'node': 400, 'edge': 800}, 'medium': {'node': 800, 'edge': 1600}, 'large': {'node': 3000, 'edge': 6000}}, 'evidence': {'1': ['Domain_c58c149eec59bb14b0c102a0f303d4c20366926b5c3206555d2937474124beb9', 'Domain_f3554b666038baffa5814c319d3053ee2c2eb30d31d0ef509a1a463386b69845'], '2': ['IP_400c19e584976ff2a35950659d4d148a3d146f1b71692468132b849b0eb8702c', 'Domain_b10f98a9b53806ccd3a5ee45676c7c09366545c5b12aa96955cde3953e7ad058'], '3': ['Domain_24acfd52f9ceb424d4a2643a832638ce1673b8689fa952d9010dd44949e6b1d9', 'Domain_9c72287c3f9bb38cb0186acf37b7054442b75ac32324dfd245aed46a03026de1', 'Domain_717aa5778731a1f4d6f0218dd3a27b114c839213b4af781427ac1e22dc9a7dea', 'Domain_8748687a61811032f0ed1dcdb57e01efef9983a6d9c236b82997b07477e66177', 'Whois_Phone_f4a84443fb72da27731660695dd00877e8ce25b264ec418504fface62cdcbbd7'], '4': ['IP_7e730b193c2496fc908086e8c44fc2dbbf7766e599fabde86a4bcb6afdaad66e', 'Cert_6724539e5c0851f37dcf91b7ac85cb35fcd9f8ba4df0107332c308aa53d63bdb'], '5': ['Whois_Phone_fd0a3f6712ff520edae7e554cb6dfb4bdd2af1e4a97a39ed9357b31b6888b4af', 'IP_21ce145cae6730a99300bf677b83bbe430cc0ec957047172e73659372f0031b8', 'Domain_7939d01c5b99c39d2a0f2b418f6060b917804e60c15309811ef4059257c0818a', 'Domain_587da0bac152713947db682a5443ef639e35f77a3b59e246e8a07c5eccae67e5']}, 'scale': {'1': 'small', '2': 'medium', '3': 'medium', '4': 'large', '5': 'large'}}\n",
      "{'node_priority': {'Domain': 3, 'IP': 4, 'Cert': 4, 'Whois_Name': 2, 'Whois_Phone': 2, 'Whois_Email': 2, 'IP_C': 1, 'ASN': 1}, 'link_priority': {'r_cert': 4, 'r_subdomain': 4, 'r_request_jump': 4, 'r_dns_a': 4, 'r_whois_name': 3, 'r_whois_email': 3, 'r_whois_phone': 3, 'r_cert_chain': 2, 'r_cname': 2, 'r_asn': 1, 'r_cidr': 1}, 'jump_limit': {1: 0, 2: 1, 3: 2, 4: 3}, 'net_limit': {'small': {'node': 400, 'edge': 800}, 'medium': {'node': 800, 'edge': 1600}, 'large': {'node': 3000, 'edge': 6000}}, 'evidence': {'1': ['Domain_c58c149eec59bb14b0c102a0f303d4c20366926b5c3206555d2937474124beb9', 'Domain_f3554b666038baffa5814c319d3053ee2c2eb30d31d0ef509a1a463386b69845'], '2': ['IP_400c19e584976ff2a35950659d4d148a3d146f1b71692468132b849b0eb8702c', 'Domain_b10f98a9b53806ccd3a5ee45676c7c09366545c5b12aa96955cde3953e7ad058'], '3': ['Domain_24acfd52f9ceb424d4a2643a832638ce1673b8689fa952d9010dd44949e6b1d9', 'Domain_9c72287c3f9bb38cb0186acf37b7054442b75ac32324dfd245aed46a03026de1', 'Domain_717aa5778731a1f4d6f0218dd3a27b114c839213b4af781427ac1e22dc9a7dea', 'Domain_8748687a61811032f0ed1dcdb57e01efef9983a6d9c236b82997b07477e66177', 'Whois_Phone_f4a84443fb72da27731660695dd00877e8ce25b264ec418504fface62cdcbbd7'], '4': ['IP_7e730b193c2496fc908086e8c44fc2dbbf7766e599fabde86a4bcb6afdaad66e', 'Cert_6724539e5c0851f37dcf91b7ac85cb35fcd9f8ba4df0107332c308aa53d63bdb'], '5': ['Whois_Phone_fd0a3f6712ff520edae7e554cb6dfb4bdd2af1e4a97a39ed9357b31b6888b4af', 'IP_21ce145cae6730a99300bf677b83bbe430cc0ec957047172e73659372f0031b8', 'Domain_7939d01c5b99c39d2a0f2b418f6060b917804e60c15309811ef4059257c0818a', 'Domain_587da0bac152713947db682a5443ef639e35f77a3b59e246e8a07c5eccae67e5']}, 'scale': {'1': 'small', '2': 'medium', '3': 'medium', '4': 'large', '5': 'large'}}\n",
      "Loading graph...\n",
      "Initial Node shape:  (2371558, 4)\n",
      "Initial Link shape:  (3286986, 3)\n",
      "After drop nan and duplicates:\n",
      "Node shape:  (2371558, 4)\n",
      "Link shape:  (3285490, 3)\n",
      "Graph loaded.\n"
     ]
    }
   ],
   "source": [
    "import importlib\n",
    "\n",
    "process = importlib.import_module(\"process\")\n",
    "importlib.reload(process)\n",
    "\n",
    "G = process.get_graph()"
   ]
  },
  {
   "cell_type": "code",
   "execution_count": 12,
   "metadata": {},
   "outputs": [],
   "source": [
    "# Create a Directed Graph from the undirected one\n",
    "G_directed = nx.DiGraph(G)"
   ]
  },
  {
   "cell_type": "markdown",
   "metadata": {},
   "source": [
    "运行社区检测\n"
   ]
  },
  {
   "cell_type": "code",
   "execution_count": 3,
   "metadata": {},
   "outputs": [],
   "source": [
    "import importlib\n",
    "\n",
    "community_detection = importlib.import_module(\"utils.community_detection\")\n",
    "importlib.reload(community_detection)\n",
    "\n",
    "# community_detection.get_community_for_all_groups(G)\n",
    "community_detection.get_subgraph_for_all_communities(G)"
   ]
  },
  {
   "cell_type": "markdown",
   "metadata": {},
   "source": [
    "根据以上社区检测算法的结果，选取团伙 [?] 进行分析。\n"
   ]
  },
  {
   "cell_type": "code",
   "execution_count": null,
   "metadata": {},
   "outputs": [],
   "source": [
    "import json\n",
    "import importlib\n",
    "\n",
    "rules = importlib.import_module(\"utils.global_rules\")\n",
    "process = importlib.import_module(\"process\")\n",
    "importlib.reload(rules)\n",
    "importlib.reload(process)\n",
    "\n",
    "rules = rules.rules\n",
    "# group_to_analyze = [\"1\", \"3\", \"4\"]\n",
    "group_to_analyze = [\"1\", \"2\", \"3\", \"4\", \"5\"]\n",
    "cacheDir = \"../data/cache/\"\n",
    "subgraphDir = \"../data/subgraph/\"\n",
    "\n",
    "\n",
    "def export_subgraph_to_json(graph, group_str: str):\n",
    "    # transform the graph to directed graph\n",
    "    # graph = graph.to_directed()\n",
    "    # export the graph to json\n",
    "    json.dump(\n",
    "        nx.readwrite.json_graph.node_link_data(graph),\n",
    "        open(subgraphDir + \"group_\" + group_str + \".json\", \"w\"),\n",
    "    )\n",
    "    return\n",
    "\n",
    "\n",
    "def analyse_group(group_str: str):\n",
    "    print(\"analyse group: \", group_str)\n",
    "    # get the evidence\n",
    "    evidence = rules[\"evidence\"][group_str]\n",
    "\n",
    "    # # read the group\n",
    "    # graph = nx.readwrite.json_graph.node_link_graph(\n",
    "    #     json.load(open(cacheDir + \"group_\" + group_str + \".json\"))\n",
    "    # )\n",
    "    # # print graph info\n",
    "    # print(\"#nodes: \", graph.number_of_nodes())\n",
    "    # print(\"#edges: \", graph.number_of_edges())\n",
    "    # subgraph = process.get_subgrah(graph, evidence)\n",
    "\n",
    "    subgraph = process.get_subgraph(G_directed, evidence)\n",
    "    print(\"#nodes in subgraph: \", subgraph.number_of_nodes())\n",
    "    print(\"#edges in subgraph: \", subgraph.number_of_edges())\n",
    "\n",
    "    subgraph_filtered = process.filter_subgraph(\n",
    "        subgraph,\n",
    "    )\n",
    "    process.set_core(subgraph_filtered)\n",
    "    export_subgraph_to_json(subgraph_filtered, group_str)\n",
    "\n",
    "    print()\n",
    "    return\n",
    "\n",
    "\n",
    "for group in group_to_analyze:\n",
    "    analyse_group(group)\n",
    "\n",
    "# analyse_group(\"1\")"
   ]
  }
 ],
 "metadata": {
  "kernelspec": {
   "display_name": "Python 3",
   "language": "python",
   "name": "python3"
  },
  "language_info": {
   "codemirror_mode": {
    "name": "ipython",
    "version": 3
   },
   "file_extension": ".py",
   "mimetype": "text/x-python",
   "name": "python",
   "nbconvert_exporter": "python",
   "pygments_lexer": "ipython3",
   "version": "3.11.5"
  }
 },
 "nbformat": 4,
 "nbformat_minor": 2
}
